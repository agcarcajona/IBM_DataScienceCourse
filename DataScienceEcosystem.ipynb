{
 "cells": [
  {
   "cell_type": "markdown",
   "id": "e5623d63-3dd7-463c-9894-34f0b3f21723",
   "metadata": {},
   "source": [
    "# Data Science Tools and Ecosystem"
   ]
  },
  {
   "cell_type": "markdown",
   "id": "c537d6c6-a196-43a5-acc0-86aaa4cacd73",
   "metadata": {},
   "source": [
    "In this notebook, Data Science Tools and Ecosystem are summarized"
   ]
  },
  {
   "cell_type": "markdown",
   "id": "734535af-5596-4953-990b-5a169ed24076",
   "metadata": {},
   "source": [
    "Some of the popular languages that Data Scientists use are:\n",
    "\n",
    "1. Python\n",
    "2. R\n",
    "3. SQL"
   ]
  },
  {
   "cell_type": "markdown",
   "id": "12ea798d-5a62-4603-abed-8a60f7e98006",
   "metadata": {},
   "source": [
    "Some of the commonly used libraries used by Data Scientists inlcude:\n",
    "\n",
    "1. Pandas\n",
    "2. SciPy\n",
    "3. Matplotlib\n",
    "4. NumPy"
   ]
  },
  {
   "cell_type": "markdown",
   "id": "e8fbd16e-3bce-4bb9-8a3b-135bdccd43f5",
   "metadata": {},
   "source": [
    "| Data Science Tools |\n",
    "| ----- |\n",
    "| RStudio |\n",
    "| Apache Spark |\n",
    "| JupyterLab |"
   ]
  },
  {
   "cell_type": "markdown",
   "id": "fdd9ec3d-e517-4914-8785-6bf4c2b9de48",
   "metadata": {},
   "source": [
    "### Below are a few examples of evaluating arithmetic expressions in Python."
   ]
  },
  {
   "cell_type": "code",
   "execution_count": 1,
   "id": "d39ad377-3049-4aea-8bce-8a5d6a243309",
   "metadata": {},
   "outputs": [
    {
     "data": {
      "text/plain": [
       "17"
      ]
     },
     "execution_count": 1,
     "metadata": {},
     "output_type": "execute_result"
    }
   ],
   "source": [
    "# This is a simple arithmetic expression to multiply and then add integers.\n",
    "(3*4)+5"
   ]
  },
  {
   "cell_type": "code",
   "execution_count": 4,
   "id": "bafbce1c-d84d-4a75-82aa-d73087a97a47",
   "metadata": {},
   "outputs": [
    {
     "name": "stdout",
     "output_type": "stream",
     "text": [
      "3.3333333333333335\n"
     ]
    }
   ],
   "source": [
    "# This will convert 200 minutes to hours by dividing by 60.\n",
    "minutes = 200\n",
    "hours = minutes / 60\n",
    "print(hours)"
   ]
  },
  {
   "cell_type": "markdown",
   "id": "fb9e735c-6cba-4213-9a39-eadbfd5ba8f5",
   "metadata": {},
   "source": [
    "**Objectives:**\n",
    "- Popular languages for Data Science\n",
    "- Common libreries used in Data Science\n",
    "- Popular Open-Source Data Science Tools"
   ]
  },
  {
   "cell_type": "markdown",
   "id": "21d20d64-1dc3-42d0-8864-38043cc00358",
   "metadata": {},
   "source": [
    "## Author\n",
    "Adrian Garcia Carcajona"
   ]
  },
  {
   "cell_type": "code",
   "execution_count": null,
   "id": "7cf20aef-292e-4480-b477-11148e023a99",
   "metadata": {},
   "outputs": [],
   "source": []
  }
 ],
 "metadata": {
  "kernelspec": {
   "display_name": "Python 3 (ipykernel)",
   "language": "python",
   "name": "python3"
  },
  "language_info": {
   "codemirror_mode": {
    "name": "ipython",
    "version": 3
   },
   "file_extension": ".py",
   "mimetype": "text/x-python",
   "name": "python",
   "nbconvert_exporter": "python",
   "pygments_lexer": "ipython3",
   "version": "3.12.8"
  }
 },
 "nbformat": 4,
 "nbformat_minor": 5
}
